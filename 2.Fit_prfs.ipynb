{
 "cells": [
  {
   "cell_type": "markdown",
   "metadata": {},
   "source": [
    "# 2. PRF fitting\n",
    "\n",
    "## Goals\n",
    "\n",
    "1. Perform CSS model fitting on both the early and late subject we created.\n",
    "2. Save the data."
   ]
  },
  {
   "cell_type": "markdown",
   "metadata": {},
   "source": [
    "### Imports"
   ]
  },
  {
   "cell_type": "code",
   "execution_count": null,
   "metadata": {},
   "outputs": [],
   "source": [
    "%load_ext autoreload\n",
    "%autoreload 2\n",
    "from base import HCP_subject\n",
    "from analysis import Analysis\n",
    "from utils import read_mask"
   ]
  },
  {
   "cell_type": "markdown",
   "metadata": {},
   "source": [
    "Start an analysis base and read in the late subject we defined in the previous notebook."
   ]
  },
  {
   "cell_type": "code",
   "execution_count": null,
   "metadata": {},
   "outputs": [],
   "source": [
    "mymask=read_mask()"
   ]
  },
  {
   "cell_type": "code",
   "execution_count": null,
   "metadata": {},
   "outputs": [],
   "source": [
    "def analyse_subject(csub,analysis_name,expt_id='movie',yaml='/tank/hedger/scripts/Tonotopy_2021/config.yml',mask=None,starting_params=None):\n",
    "    my_sub=HCP_subject(csub,experiment_id=expt_id,yaml_file=yaml)\n",
    "    my_sub.prepare_out_dirs(analysis_name)\n",
    "    my_sub.prep_data()\n",
    "    my_sub.import_data()\n",
    "    my_analysis=Analysis(my_sub)\n",
    "    \n",
    "    if mask is not None:\n",
    "        my_analysis.mask=mask\n",
    "    if starting_params is not None:\n",
    "        my_analysis.starting_params=starting_params\n",
    "    \n",
    "    my_analysis.fit_all_folds()\n",
    "    \n",
    "    my_analysis.sub.make_speech_dms()\n",
    "    my_analysis.fit_speech_models()\n",
    "    \n",
    "    my_analysis.summarise_fits()\n",
    "    my_analysis.saveout()\n",
    "    \n",
    "    return my_analysis"
   ]
  },
  {
   "cell_type": "code",
   "execution_count": null,
   "metadata": {},
   "outputs": [],
   "source": [
    "late_analysis=analyse_subject('late',analysis_name='Test',expt_id='movie',yaml='/tank/hedger/scripts/Tonotopy_2021/config.yml',mask=mymask,starting_params=None)"
   ]
  },
  {
   "cell_type": "code",
   "execution_count": null,
   "metadata": {},
   "outputs": [],
   "source": [
    "early_analysis=analyse_subject('early',analysis_name='Test',expt_id='movie',yaml='/tank/hedger/scripts/Tonotopy_2021/config.yml',mask=mymask,starting_params=None)"
   ]
  }
 ],
 "metadata": {
  "kernelspec": {
   "display_name": "Python 3",
   "language": "python",
   "name": "python3"
  },
  "language_info": {
   "codemirror_mode": {
    "name": "ipython",
    "version": 3
   },
   "file_extension": ".py",
   "mimetype": "text/x-python",
   "name": "python",
   "nbconvert_exporter": "python",
   "pygments_lexer": "ipython3",
   "version": "3.8.12"
  }
 },
 "nbformat": 4,
 "nbformat_minor": 4
}
