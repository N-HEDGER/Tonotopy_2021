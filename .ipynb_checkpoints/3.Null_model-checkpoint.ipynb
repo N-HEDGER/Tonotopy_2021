{
 "cells": [
  {
   "cell_type": "markdown",
   "metadata": {},
   "source": [
    "Fits a simple null model on the tonotopy data"
   ]
  },
  {
   "cell_type": "code",
   "execution_count": 1,
   "metadata": {},
   "outputs": [],
   "source": [
    "%load_ext autoreload\n",
    "%autoreload 2"
   ]
  },
  {
   "cell_type": "code",
   "execution_count": 2,
   "metadata": {},
   "outputs": [
    {
     "name": "stderr",
     "output_type": "stream",
     "text": [
      "/tank/hedger/software/hcp_movie/cfhcpy/base.py:13: TqdmExperimentalWarning: Using `tqdm.autonotebook.tqdm` in notebook mode. Use `tqdm.tqdm` instead to force console mode (e.g. in jupyter console)\n",
      "  from tqdm.autonotebook import tqdm\n",
      "/tank/hedger/software/hcp_movie/cfhcpy/fit_utils.py:22: UserWarning: \n",
      "\n",
      " | Using Nistats with Nilearn versions >= 0.7.0 is redundant and potentially conflicting.\n",
      " | Nilearn versions 0.7.0 and up offer all the functionality of Nistats as well the latest features and fixes.\n",
      " | We strongly recommend uninstalling Nistats and using Nilearn's stats & reporting modules.\n",
      "\n",
      "  from nistats.hemodynamic_models import spm_hrf\n",
      "/tank/hedger/software/anaconda3/envs/p3/lib/python3.8/site-packages/sklearn/utils/deprecation.py:143: FutureWarning: The sklearn.linear_model.ridge module is  deprecated in version 0.22 and will be removed in version 0.24. The corresponding classes / functions should instead be imported from sklearn.linear_model. Anything that cannot be imported from sklearn.linear_model is now part of the private API.\n",
      "  warnings.warn(message, FutureWarning)\n"
     ]
    },
    {
     "name": "stdout",
     "output_type": "stream",
     "text": [
      "Starting analysis of subject late on romulus with settings \n",
      "{\n",
      " \"identifier\": \"node230\",\n",
      " \"base_dir\": \"/scratch/2019/visual/hcp_{experiment}/\",\n",
      " \"code_dir\": \"/tank/hedger/scripts/HCP_tonotopy\",\n",
      " \"threads\": 40\n",
      "}\n"
     ]
    }
   ],
   "source": [
    "from cfhcpy.base import AnalysisBase\n",
    "from funcs import HCP_subject\n",
    "from prfpy.timecourse import sgfilter_predictions\n",
    "import matplotlib.pyplot as plt\n",
    "import numpy as np\n",
    "\n",
    "from prfpy.timecourse import convolve_stimulus_dm\n",
    "from funcs import rsq_for_model\n",
    "from funcs import create_hrf, convolve\n",
    "from funcs import hdfshutter\n",
    "from funcs import h5_make, h5_dump2, hdfshutter\n",
    "import h5py\n",
    "\n",
    "late = AnalysisBase()\n",
    "\n",
    "late.startup(subject='late', experiment_id='movie', yaml_file='/tank/hedger/software/hcp_movie/config.yml')"
   ]
  },
  {
   "cell_type": "markdown",
   "metadata": {},
   "source": [
    "Load in the subject and prepare in the same way as before."
   ]
  },
  {
   "cell_type": "code",
   "execution_count": 3,
   "metadata": {},
   "outputs": [
    {
     "name": "stdin",
     "output_type": "stream",
     "text": [
      "Prompt : After ref date? 1=True or 0=False 1\n"
     ]
    },
    {
     "name": "stderr",
     "output_type": "stream",
     "text": [
      "  0%|          | 0/4 [00:00<?, ?it/s]"
     ]
    },
    {
     "name": "stdout",
     "output_type": "stream",
     "text": [
      "Reading in data\n"
     ]
    },
    {
     "name": "stderr",
     "output_type": "stream",
     "text": [
      "100%|██████████| 4/4 [00:06<00:00,  1.72s/it]\n",
      "  0%|          | 0/4 [00:00<?, ?it/s]"
     ]
    },
    {
     "name": "stdout",
     "output_type": "stream",
     "text": [
      "Creating design matrices\n"
     ]
    },
    {
     "name": "stderr",
     "output_type": "stream",
     "text": [
      "\n",
      "  0%|          | 0/921 [00:00<?, ?it/s]\u001b[A\n",
      "100%|██████████| 921/921 [00:00<00:00, 6683.73it/s]\u001b[A\n",
      "\n",
      "  0%|          | 0/921 [00:00<?, ?it/s]\u001b[A\n",
      "100%|██████████| 921/921 [00:00<00:00, 7039.03it/s]\u001b[A\n",
      " 25%|██▌       | 1/4 [00:02<00:08,  2.77s/it]\n",
      "  0%|          | 0/918 [00:00<?, ?it/s]\u001b[A\n",
      "100%|██████████| 918/918 [00:00<00:00, 6911.33it/s]\u001b[A\n",
      "\n",
      "  0%|          | 0/918 [00:00<?, ?it/s]\u001b[A\n",
      "100%|██████████| 918/918 [00:00<00:00, 7296.32it/s]\u001b[A\n",
      " 50%|█████     | 2/4 [00:05<00:05,  2.76s/it]\n",
      "  0%|          | 0/915 [00:00<?, ?it/s]\u001b[A\n",
      "100%|██████████| 915/915 [00:00<00:00, 7238.21it/s]\u001b[A\n",
      "\n",
      "  0%|          | 0/915 [00:00<?, ?it/s]\u001b[A\n",
      "100%|██████████| 915/915 [00:00<00:00, 7363.26it/s]\u001b[A\n",
      " 75%|███████▌  | 3/4 [00:08<00:02,  2.75s/it]\n",
      "  0%|          | 0/901 [00:00<?, ?it/s]\u001b[A\n",
      "100%|██████████| 901/901 [00:00<00:00, 7390.68it/s]\u001b[A\n",
      "\n",
      "  0%|          | 0/901 [00:00<?, ?it/s]\u001b[A\n",
      "100%|██████████| 901/901 [00:00<00:00, 7390.36it/s]\u001b[A\n",
      "100%|██████████| 4/4 [00:10<00:00,  2.72s/it]\n",
      "  0%|          | 0/4 [00:00<?, ?it/s]"
     ]
    },
    {
     "name": "stdout",
     "output_type": "stream",
     "text": [
      "making training and test folds\n"
     ]
    },
    {
     "name": "stderr",
     "output_type": "stream",
     "text": [
      "100%|██████████| 4/4 [00:02<00:00,  1.88it/s]\n"
     ]
    }
   ],
   "source": [
    "late.subject_base_dir='/tank/hedger/DATA/HCP_temp/late'\n",
    "\n",
    "latesub=HCP_subject(late)\n",
    "\n",
    "latesub.prep_data()\n",
    "\n",
    "dtype='main' # Use the independent data, thereby chopping off the 'test sequence'\n",
    "standardise=True # Standardise the design matrix\n",
    "zaxis=1\n",
    "filt=False # Dont filter the design matrix,we will filter the predictions instead.\n",
    "\n",
    "latesub.import_data(dtype,standardise,filt,zaxis)"
   ]
  },
  {
   "cell_type": "markdown",
   "metadata": {},
   "source": [
    "Define and fit simple null model on the test data."
   ]
  },
  {
   "cell_type": "code",
   "execution_count": 4,
   "metadata": {},
   "outputs": [],
   "source": [
    "hrf=create_hrf()\n",
    "from tqdm import tqdm"
   ]
  },
  {
   "cell_type": "code",
   "execution_count": 5,
   "metadata": {},
   "outputs": [],
   "source": [
    "def null_model(sub):\n",
    "    null_r2=[]\n",
    "    for fold in tqdm(range(len(sub.dm_train))):\n",
    "        empty=np.zeros(sub.dm_test[fold][0].shape[0]) \n",
    "        empty[np.where(sub.dm_test[fold][0]!=0)]=1 # Create a regressor where any sounds are coded as 1. \n",
    "        empty=empty.reshape(1,empty.shape[0]) \n",
    "        tc=convolve(hrf,empty) # Convolve with hrf\n",
    "        f_tc=sgfilter_predictions(tc,window_length=201, polyorder=3) # Apply same filter.\n",
    "        data=sub.data_test[fold] # Data to fit.\n",
    "        null_r2.append(rsq_for_model(data.T,f_tc)) # Coeffient of determination.\n",
    "    null_r2=np.array(null_r2)\n",
    "    return null_r2\n",
    "        "
   ]
  },
  {
   "cell_type": "code",
   "execution_count": 6,
   "metadata": {},
   "outputs": [
    {
     "name": "stderr",
     "output_type": "stream",
     "text": [
      "  0%|          | 0/4 [00:00<?, ?it/s]/tank/hedger/scripts/HCP_tonotopy/funcs.py:77: FutureWarning: `rcond` parameter will change to the default of machine precision times ``max(M, N)`` where M and N are the input matrix dimensions.\n",
      "To use the future default and silence this warning we advise to pass `rcond=None`, to keep using the old, explicitly pass `rcond=-1`.\n",
      "  betas = np.linalg.lstsq(dm, data.T)[0]\n",
      "/tank/hedger/scripts/HCP_tonotopy/funcs.py:79: RuntimeWarning: invalid value encountered in true_divide\n",
      "  rsq = 1-(data-yhat).var(-1)/data.var(-1)\n",
      "100%|██████████| 4/4 [00:12<00:00,  3.11s/it]\n"
     ]
    }
   ],
   "source": [
    "late_null=null_model(latesub)"
   ]
  },
  {
   "cell_type": "markdown",
   "metadata": {},
   "source": [
    "Repeat for early subject."
   ]
  },
  {
   "cell_type": "code",
   "execution_count": 9,
   "metadata": {},
   "outputs": [
    {
     "name": "stdout",
     "output_type": "stream",
     "text": [
      "Starting analysis of subject early on romulus with settings \n",
      "{\n",
      " \"identifier\": \"node230\",\n",
      " \"base_dir\": \"/scratch/2019/visual/hcp_{experiment}/\",\n",
      " \"code_dir\": \"/tank/hedger/scripts/HCP_tonotopy\",\n",
      " \"threads\": 40\n",
      "}\n"
     ]
    }
   ],
   "source": [
    "early = AnalysisBase()\n",
    "\n",
    "early.startup(subject='early', experiment_id='movie', yaml_file='/tank/hedger/software/hcp_movie/config.yml')"
   ]
  },
  {
   "cell_type": "code",
   "execution_count": 10,
   "metadata": {},
   "outputs": [
    {
     "name": "stdin",
     "output_type": "stream",
     "text": [
      "Prompt : After ref date? 1=True or 0=False 0\n"
     ]
    },
    {
     "name": "stderr",
     "output_type": "stream",
     "text": [
      "  0%|          | 0/4 [00:00<?, ?it/s]"
     ]
    },
    {
     "name": "stdout",
     "output_type": "stream",
     "text": [
      "Reading in data\n"
     ]
    },
    {
     "name": "stderr",
     "output_type": "stream",
     "text": [
      "100%|██████████| 4/4 [00:06<00:00,  1.65s/it]\n",
      "  0%|          | 0/4 [00:00<?, ?it/s]"
     ]
    },
    {
     "name": "stdout",
     "output_type": "stream",
     "text": [
      "Creating design matrices\n"
     ]
    },
    {
     "name": "stderr",
     "output_type": "stream",
     "text": [
      "\n",
      "  0%|          | 0/921 [00:00<?, ?it/s]\u001b[A\n",
      "100%|██████████| 921/921 [00:00<00:00, 7094.09it/s]\u001b[A\n",
      "\n",
      "  0%|          | 0/921 [00:00<?, ?it/s]\u001b[A\n",
      "100%|██████████| 921/921 [00:00<00:00, 7218.71it/s]\u001b[A\n",
      " 25%|██▌       | 1/4 [00:02<00:08,  2.77s/it]\n",
      "  0%|          | 0/918 [00:00<?, ?it/s]\u001b[A\n",
      "100%|██████████| 918/918 [00:00<00:00, 7262.75it/s]\u001b[A\n",
      "\n",
      "  0%|          | 0/918 [00:00<?, ?it/s]\u001b[A\n",
      "100%|██████████| 918/918 [00:00<00:00, 7199.92it/s]\u001b[A\n",
      " 50%|█████     | 2/4 [00:05<00:05,  2.76s/it]\n",
      "  0%|          | 0/915 [00:00<?, ?it/s]\u001b[A\n",
      "100%|██████████| 915/915 [00:00<00:00, 7272.38it/s]\u001b[A\n",
      "\n",
      "  0%|          | 0/915 [00:00<?, ?it/s]\u001b[A\n",
      "100%|██████████| 915/915 [00:00<00:00, 7296.30it/s]\u001b[A\n",
      " 75%|███████▌  | 3/4 [00:08<00:02,  2.75s/it]\n",
      "  0%|          | 0/901 [00:00<?, ?it/s]\u001b[A\n",
      "100%|██████████| 901/901 [00:00<00:00, 7324.14it/s]\u001b[A\n",
      "\n",
      "  0%|          | 0/901 [00:00<?, ?it/s]\u001b[A\n",
      "100%|██████████| 901/901 [00:00<00:00, 7355.91it/s]\u001b[A\n",
      "100%|██████████| 4/4 [00:10<00:00,  2.73s/it]\n",
      "  0%|          | 0/4 [00:00<?, ?it/s]"
     ]
    },
    {
     "name": "stdout",
     "output_type": "stream",
     "text": [
      "making training and test folds\n"
     ]
    },
    {
     "name": "stderr",
     "output_type": "stream",
     "text": [
      "100%|██████████| 4/4 [00:02<00:00,  1.98it/s]\n"
     ]
    }
   ],
   "source": [
    "early.subject_base_dir='/tank/hedger/DATA/HCP_temp/early'\n",
    "\n",
    "earlysub=HCP_subject(early)\n",
    "\n",
    "earlysub.prep_data()\n",
    "\n",
    "dtype='main' # Use the independent data, thereby chopping off the 'test sequence'\n",
    "standardise=True # Standardise the design matrix\n",
    "zaxis=1\n",
    "filt=False # Dont filter the design matrix,we will filter the predictions instead.\n",
    "\n",
    "earlysub.import_data(dtype,standardise,filt,zaxis)"
   ]
  },
  {
   "cell_type": "code",
   "execution_count": 11,
   "metadata": {},
   "outputs": [
    {
     "name": "stderr",
     "output_type": "stream",
     "text": [
      "  0%|          | 0/4 [00:00<?, ?it/s]/tank/hedger/scripts/HCP_tonotopy/funcs.py:77: FutureWarning: `rcond` parameter will change to the default of machine precision times ``max(M, N)`` where M and N are the input matrix dimensions.\n",
      "To use the future default and silence this warning we advise to pass `rcond=None`, to keep using the old, explicitly pass `rcond=-1`.\n",
      "  betas = np.linalg.lstsq(dm, data.T)[0]\n",
      "/tank/hedger/scripts/HCP_tonotopy/funcs.py:79: RuntimeWarning: invalid value encountered in true_divide\n",
      "  rsq = 1-(data-yhat).var(-1)/data.var(-1)\n",
      "100%|██████████| 4/4 [00:12<00:00,  3.05s/it]\n"
     ]
    }
   ],
   "source": [
    "early_null=null_model(earlysub)"
   ]
  },
  {
   "cell_type": "code",
   "execution_count": 13,
   "metadata": {},
   "outputs": [],
   "source": [
    "hdfshutter()"
   ]
  },
  {
   "cell_type": "code",
   "execution_count": 15,
   "metadata": {},
   "outputs": [],
   "source": [
    "latefile = h5py.File(latef, \"r\")"
   ]
  },
  {
   "cell_type": "code",
   "execution_count": 17,
   "metadata": {},
   "outputs": [],
   "source": [
    "latefile.close()"
   ]
  },
  {
   "cell_type": "code",
   "execution_count": 23,
   "metadata": {},
   "outputs": [
    {
     "name": "stdout",
     "output_type": "stream",
     "text": [
      "filename already exists\n"
     ]
    },
    {
     "data": {
      "text/plain": [
       "'fold_nullmod'"
      ]
     },
     "execution_count": 23,
     "metadata": {},
     "output_type": "execute_result"
    }
   ],
   "source": [
    "latef=h5_make('/tank/hedger/DATA/HCP_temp/late','AUDITORY_FITS_CSS_FULL')\n",
    "h5_dump2(latef,late_null,'fold_nullmod')"
   ]
  },
  {
   "cell_type": "code",
   "execution_count": 24,
   "metadata": {},
   "outputs": [
    {
     "name": "stdout",
     "output_type": "stream",
     "text": [
      "filename already exists\n"
     ]
    },
    {
     "data": {
      "text/plain": [
       "'fold_nullmod'"
      ]
     },
     "execution_count": 24,
     "metadata": {},
     "output_type": "execute_result"
    }
   ],
   "source": [
    "earlyf=h5_make('/tank/hedger/DATA/HCP_temp/early','AUDITORY_FITS_CSS_FULL')\n",
    "h5_dump2(earlyf,early_null,'fold_nullmod')"
   ]
  },
  {
   "cell_type": "code",
   "execution_count": 25,
   "metadata": {},
   "outputs": [
    {
     "ename": "AttributeError",
     "evalue": "'str' object has no attribute 'close'",
     "output_type": "error",
     "traceback": [
      "\u001b[0;31m---------------------------------------------------------------------------\u001b[0m",
      "\u001b[0;31mAttributeError\u001b[0m                            Traceback (most recent call last)",
      "\u001b[0;32m<ipython-input-25-b538e8d04d36>\u001b[0m in \u001b[0;36m<module>\u001b[0;34m\u001b[0m\n\u001b[0;32m----> 1\u001b[0;31m \u001b[0mearlyf\u001b[0m\u001b[0;34m.\u001b[0m\u001b[0mclose\u001b[0m\u001b[0;34m(\u001b[0m\u001b[0;34m)\u001b[0m\u001b[0;34m\u001b[0m\u001b[0;34m\u001b[0m\u001b[0m\n\u001b[0m",
      "\u001b[0;31mAttributeError\u001b[0m: 'str' object has no attribute 'close'"
     ]
    }
   ],
   "source": [
    "earlyf.close()"
   ]
  },
  {
   "cell_type": "code",
   "execution_count": null,
   "metadata": {},
   "outputs": [],
   "source": []
  }
 ],
 "metadata": {
  "kernelspec": {
   "display_name": "Python 3",
   "language": "python",
   "name": "python3"
  },
  "language_info": {
   "codemirror_mode": {
    "name": "ipython",
    "version": 3
   },
   "file_extension": ".py",
   "mimetype": "text/x-python",
   "name": "python",
   "nbconvert_exporter": "python",
   "pygments_lexer": "ipython3",
   "version": "3.8.3"
  }
 },
 "nbformat": 4,
 "nbformat_minor": 4
}
